{
  "nbformat": 4,
  "nbformat_minor": 0,
  "metadata": {
    "colab": {
      "provenance": [],
      "toc_visible": true,
      "authorship_tag": "ABX9TyN0tpbMjj44zyJ+vNDXHz4Y",
      "include_colab_link": true
    },
    "kernelspec": {
      "name": "python3",
      "display_name": "Python 3"
    },
    "language_info": {
      "name": "python"
    }
  },
  "cells": [
    {
      "cell_type": "markdown",
      "metadata": {
        "id": "view-in-github",
        "colab_type": "text"
      },
      "source": [
        "<a href=\"https://colab.research.google.com/github/selfor21/NN-FROM-SCRATCH-LOW-LEVEL/blob/main/C_09_BackPRopagation.ipynb\" target=\"_parent\"><img src=\"https://colab.research.google.com/assets/colab-badge.svg\" alt=\"Open In Colab\"/></a>"
      ]
    },
    {
      "cell_type": "markdown",
      "source": [
        "#BackPropagation - 07/Jan/2024"
      ],
      "metadata": {
        "id": "ZCPPhRbVTUCL"
      }
    },
    {
      "cell_type": "code",
      "execution_count": 2,
      "metadata": {
        "colab": {
          "base_uri": "https://localhost:8080/"
        },
        "id": "77Pj2CnnSJa5",
        "outputId": "cdd644e6-0745-4cf4-9250-8d24d4ead6b0"
      },
      "outputs": [
        {
          "output_type": "stream",
          "name": "stdout",
          "text": [
            "Collecting nnfs\n",
            "  Downloading nnfs-0.5.1-py3-none-any.whl (9.1 kB)\n",
            "Requirement already satisfied: numpy in /usr/local/lib/python3.10/dist-packages (from nnfs) (1.23.5)\n",
            "Installing collected packages: nnfs\n",
            "Successfully installed nnfs-0.5.1\n"
          ]
        }
      ],
      "source": [
        "!pip install nnfs"
      ]
    },
    {
      "cell_type": "code",
      "source": [
        "import numpy as np\n",
        "import nnfs\n",
        "from nnfs.datasets import spiral_data\n",
        "nnfs.init()"
      ],
      "metadata": {
        "id": "k65SVN5tSNVq"
      },
      "execution_count": 3,
      "outputs": []
    },
    {
      "cell_type": "code",
      "source": [
        "# Example with a single neuron and 3 inputs\n",
        "# Forward Pass\n",
        "x = [1.0, -2.0, 3.0] # input values\n",
        "w = [-3.0, -1.0, 2.0] # weights\n",
        "b = 1.0 # bias"
      ],
      "metadata": {
        "id": "lNn-xqGjSNZF"
      },
      "execution_count": 5,
      "outputs": []
    },
    {
      "cell_type": "code",
      "source": [
        "# Multiplying inputs by weights\n",
        "xw0 = x[0] * w[0]\n",
        "xw1 = x[1] * w[1]\n",
        "xw2 = x[2] * w[2]\n",
        "print(xw0, xw1, xw2, b)"
      ],
      "metadata": {
        "colab": {
          "base_uri": "https://localhost:8080/"
        },
        "id": "OkL8VPZASNby",
        "outputId": "e477f58c-99a0-494a-ab66-d1db3507e3d2"
      },
      "execution_count": 6,
      "outputs": [
        {
          "output_type": "stream",
          "name": "stdout",
          "text": [
            "-3.0 2.0 6.0 1.0\n"
          ]
        }
      ]
    },
    {
      "cell_type": "code",
      "source": [
        "# Adding weighted inputs and a bias\n",
        "z = xw0 + xw1 + xw2 + b\n",
        "print(z)"
      ],
      "metadata": {
        "colab": {
          "base_uri": "https://localhost:8080/"
        },
        "id": "o8SiP910VhCL",
        "outputId": "0d587822-b41c-4f38-996d-69ab6e21690d"
      },
      "execution_count": 7,
      "outputs": [
        {
          "output_type": "stream",
          "name": "stdout",
          "text": [
            "6.0\n"
          ]
        }
      ]
    },
    {
      "cell_type": "code",
      "source": [
        "# ReLU activation function\n",
        "y = max(z, 0)\n",
        "print(y)"
      ],
      "metadata": {
        "colab": {
          "base_uri": "https://localhost:8080/"
        },
        "id": "1mOg2J8TV57g",
        "outputId": "0aa21670-68c7-4b22-d875-bc5f2b064461"
      },
      "execution_count": 8,
      "outputs": [
        {
          "output_type": "stream",
          "name": "stdout",
          "text": [
            "6.0\n"
          ]
        }
      ]
    },
    {
      "cell_type": "code",
      "source": [
        "# we want to know the impact of the weight or bias in the current"
      ],
      "metadata": {
        "id": "WybNxuGpV53v"
      },
      "execution_count": null,
      "outputs": []
    },
    {
      "cell_type": "code",
      "source": [],
      "metadata": {
        "id": "JQWPn6-rVhFj"
      },
      "execution_count": null,
      "outputs": []
    },
    {
      "cell_type": "code",
      "source": [],
      "metadata": {
        "id": "Lm03_7TVVhIm"
      },
      "execution_count": null,
      "outputs": []
    },
    {
      "cell_type": "code",
      "source": [],
      "metadata": {
        "id": "4iIwlo4LVhLw"
      },
      "execution_count": null,
      "outputs": []
    },
    {
      "cell_type": "code",
      "source": [],
      "metadata": {
        "id": "DDFDzhYsVhO1"
      },
      "execution_count": null,
      "outputs": []
    },
    {
      "cell_type": "code",
      "source": [],
      "metadata": {
        "id": "va9KryCUVhSC"
      },
      "execution_count": null,
      "outputs": []
    },
    {
      "cell_type": "code",
      "source": [],
      "metadata": {
        "id": "1WeAfWh8VhVH"
      },
      "execution_count": null,
      "outputs": []
    },
    {
      "cell_type": "code",
      "source": [],
      "metadata": {
        "id": "CQIPQoTzVhXr"
      },
      "execution_count": null,
      "outputs": []
    },
    {
      "cell_type": "code",
      "source": [
        "# Dense layer\n",
        "class Layer_Dense:\n",
        "  # Layer initialization\n",
        "  def __init__(self, n_inputs, n_neurons):\n",
        "  # Initialize weights and biases\n",
        "  self.weights = 0.01 * np.random.randn(n_inputs, n_neurons)\n",
        "  self.biases = np.zeros((1, n_neurons))\n",
        "\n",
        "# Forward pass\n",
        "def forward(self, inputs):\n",
        "  # Remember input values\n",
        "  self.inputs = inputs\n",
        "  # Calculate output values from input ones, weights and biases\n",
        "  self.output = np.dot(inputs, self.weights) + self.biases\n",
        "\n",
        "# Backward pass\n",
        "def backward(self, dvalues):\n",
        "  # Gradients on parameters\n",
        "  self.dweights = np.dot(self.inputs.T, dvalues)\n",
        "  self.dbiases = np.sum(dvalues, axis=0, keepdims=True)\n",
        "  # Gradient on values\n",
        "  self.dinputs = np.dot(dvalues, self.weights.T)\n",
        "\n",
        "# ReLU activation\n",
        "class Activation_ReLU:\n",
        "  # Forward pass\n",
        "  def forward(self, inputs):\n",
        "  244 | Neural Networks from Scratch\n",
        "  # Remember input values\n",
        "  self.inputs = inputs\n",
        "  # Calculate output values from inputs\n",
        "  self.output = np.maximum(0, inputs)\n",
        "  # Backward pass\n",
        "  def backward(self, dvalues):\n",
        "  # Since we need to modify original variable,\n",
        "  # let’s make a copy of values first\n",
        "  self.dinputs = dvalues.copy()\n",
        "  # Zero gradient where input values were negative\n",
        "  self.dinputs[self.inputs <= 0] = 0\n",
        "\n",
        "# Softmax activation\n",
        "class Activation_Softmax:\n",
        "# Forward pass\n",
        "def forward(self, inputs):\n",
        "# Remember input values\n",
        "self.inputs = inputs\n",
        "# Get unnormalized probabilities\n",
        "exp_values = np.exp(inputs - np.max(inputs, axis=1,\n",
        "keepdims=True))\n",
        "# Normalize them for each sample\n",
        "probabilities = exp_values / np.sum(exp_values, axis=1,\n",
        "keepdims=True)\n",
        "\n",
        "self.output = probabilities\n",
        "  # Backward pass\n",
        "  def backward(self, dvalues):\n",
        "  # Create uninitialized array\n",
        "  self.dinputs = np.empty_like(dvalues)\n",
        "  # Enumerate outputs and gradients\n",
        "  for index, (single_output, single_dvalues) in \\\n",
        "  enumerate(zip(self.output, dvalues)):\n",
        "  # Flatten output array\n",
        "  single_output = single_output.reshape(-1, 1)\n",
        "  # Calculate Jacobian matrix of the output\n",
        "  jacobian_matrix = np.diagflat(single_output) - \\\n",
        "  np.dot(single_output, single_output.T)\n",
        "\n",
        "\n",
        "\n",
        "\n",
        "\n",
        "\n",
        "\n",
        "\n",
        "\n",
        "\n",
        "\n",
        "\n",
        "\n",
        "\n",
        "\n",
        "\n",
        "\n",
        "\n",
        "\n",
        "\n",
        "\n",
        "\n",
        "\n",
        "\n",
        "\n"
      ],
      "metadata": {
        "id": "E4Y6T6eXSNe0"
      },
      "execution_count": null,
      "outputs": []
    },
    {
      "cell_type": "code",
      "source": [],
      "metadata": {
        "id": "JTzExPUESNh8"
      },
      "execution_count": null,
      "outputs": []
    }
  ]
}