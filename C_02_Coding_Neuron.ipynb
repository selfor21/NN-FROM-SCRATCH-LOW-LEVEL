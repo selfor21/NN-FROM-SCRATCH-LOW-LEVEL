{
  "nbformat": 4,
  "nbformat_minor": 0,
  "metadata": {
    "colab": {
      "provenance": [],
      "toc_visible": true,
      "authorship_tag": "ABX9TyPUFvv0rzpR41QYHraeqJYR",
      "include_colab_link": true
    },
    "kernelspec": {
      "name": "python3",
      "display_name": "Python 3"
    },
    "language_info": {
      "name": "python"
    }
  },
  "cells": [
    {
      "cell_type": "markdown",
      "metadata": {
        "id": "view-in-github",
        "colab_type": "text"
      },
      "source": [
        "<a href=\"https://colab.research.google.com/github/selfor21/NN-FROM-SCRATCH-LOW-LEVEL/blob/main/C_02_Coding_Neuron.ipynb\" target=\"_parent\"><img src=\"https://colab.research.google.com/assets/colab-badge.svg\" alt=\"Open In Colab\"/></a>"
      ]
    },
    {
      "cell_type": "code",
      "source": [
        "import numpy as np"
      ],
      "metadata": {
        "id": "I-frR_fUj6z3"
      },
      "execution_count": 1,
      "outputs": []
    },
    {
      "cell_type": "markdown",
      "source": [
        "## 05/12/2023 - ZIP FUNCTION!\n"
      ],
      "metadata": {
        "id": "mnsXhrIvG-Lr"
      }
    },
    {
      "cell_type": "code",
      "source": [
        "inputs = [1, 2, 3, 2.5]\n",
        "weights = [[0.2, 0.8, -0.5, 1],\n",
        "           [0.5, -0.91, 0.26, -0.5],\n",
        "           [-0.26, -0.27, 0.17, 0.87]]\n",
        "biases = [2, 3, 0.5]"
      ],
      "metadata": {
        "id": "s04Aq16HCTHk"
      },
      "execution_count": null,
      "outputs": []
    },
    {
      "cell_type": "code",
      "source": [
        "#ZIP FUNCTION - WHAT FOR?\n",
        "\n",
        "for t in zip(weights, biases):\n",
        "  print(t)"
      ],
      "metadata": {
        "colab": {
          "base_uri": "https://localhost:8080/"
        },
        "id": "qVeyZv42IO5X",
        "outputId": "1f921534-5846-4bd6-fce4-0bdc8debd7a6"
      },
      "execution_count": null,
      "outputs": [
        {
          "output_type": "stream",
          "name": "stdout",
          "text": [
            "([0.2, 0.8, -0.5, 1], 2)\n",
            "([0.5, -0.91, 0.26, -0.5], 3)\n",
            "([-0.26, -0.27, 0.17, 0.87], 0.5)\n"
          ]
        }
      ]
    },
    {
      "cell_type": "code",
      "source": [
        "outputs = []\n",
        "for neuron_weights, neuron_bias in zip(weights, biases):\n",
        "  # Zeroed output of given neuron\n",
        "  neuron_output = 0\n",
        "  for input, weight in zip(neuron_weights, inputs):\n",
        "    neuron_output += input * weight\n",
        "  neuron_output += neuron_bias\n",
        "\n",
        "  outputs.append(neuron_output)\n",
        "\n",
        "outputs\n"
      ],
      "metadata": {
        "colab": {
          "base_uri": "https://localhost:8080/"
        },
        "id": "cua5ezigCTEP",
        "outputId": "45a2a0d2-f16a-4348-9f81-4c9dff2acbaf"
      },
      "execution_count": null,
      "outputs": [
        {
          "output_type": "execute_result",
          "data": {
            "text/plain": [
              "[4.8, 1.21, 2.385]"
            ]
          },
          "metadata": {},
          "execution_count": 15
        }
      ]
    },
    {
      "cell_type": "markdown",
      "source": [
        "## 06/12/2023 - 38 - Dot Product and Vector Addiction\n"
      ],
      "metadata": {
        "id": "skrfEep2j6FE"
      }
    },
    {
      "cell_type": "markdown",
      "source": [],
      "metadata": {
        "id": "9ms1sz6NOW-H"
      }
    },
    {
      "cell_type": "markdown",
      "source": [
        "### Cross Product results a Vector. Dot Product results a scalar."
      ],
      "metadata": {
        "id": "ECssSKHFoayi"
      }
    },
    {
      "cell_type": "markdown",
      "source": [
        "### Single Neuron\n",
        "\n",
        "\n",
        "\n",
        "\n",
        "\n",
        "\n",
        "\n",
        "\n",
        "\n",
        "\n",
        "\n",
        "\n",
        "\n",
        "\n"
      ],
      "metadata": {
        "id": "gGJSB7EsqJgu"
      }
    },
    {
      "cell_type": "code",
      "source": [
        "inputs = [1.0, 2.0, 3.0, 2.5]\n",
        "weights = [0.2, 0.8, -0.5, 1.0]\n",
        "bias = 2.0\n"
      ],
      "metadata": {
        "id": "TRNkI0_Dj66Y"
      },
      "execution_count": null,
      "outputs": []
    },
    {
      "cell_type": "code",
      "source": [
        "outputs = np.dot(inputs,weights) + bias\n",
        "outputs"
      ],
      "metadata": {
        "colab": {
          "base_uri": "https://localhost:8080/"
        },
        "id": "PRa3svUZj69n",
        "outputId": "aa3a3098-ac70-4f80-efdd-c564f4882ff9"
      },
      "execution_count": null,
      "outputs": [
        {
          "output_type": "execute_result",
          "data": {
            "text/plain": [
              "4.8"
            ]
          },
          "metadata": {},
          "execution_count": 3
        }
      ]
    },
    {
      "cell_type": "markdown",
      "source": [
        "### Multiple Neuron"
      ],
      "metadata": {
        "id": "riMdrSl5OYWQ"
      }
    },
    {
      "cell_type": "code",
      "source": [
        "inputs  = [1.0, 2.0, 3.0, 2.5]\n",
        "weights = [[0.2, 0.8, -0.5, 1],\n",
        "           [0.5, -0.91, 0.26, -0.5],\n",
        "           [-0.26, -0.27, 0.17, 0.87]]\n",
        "biases = [2.0, 3.0, 0.5]\n",
        "layer_outputs = np.dot(weights, inputs) + biases\n",
        "print(layer_outputs)"
      ],
      "metadata": {
        "colab": {
          "base_uri": "https://localhost:8080/"
        },
        "id": "3LEMcM8sj7Av",
        "outputId": "5fa6e3f7-029a-4b3c-f21a-b8c8b531569e"
      },
      "execution_count": 2,
      "outputs": [
        {
          "output_type": "stream",
          "name": "stdout",
          "text": [
            "[4.8   1.21  2.385]\n"
          ]
        }
      ]
    },
    {
      "cell_type": "markdown",
      "source": [
        "## 10/12/2023 - 54 - A Batch of Data"
      ],
      "metadata": {
        "id": "VfVRIntfsJeE"
      }
    },
    {
      "cell_type": "markdown",
      "source": [
        "### A Batch of Input´s"
      ],
      "metadata": {
        "id": "GYoBt3JpQDr-"
      }
    },
    {
      "cell_type": "code",
      "source": [
        "inputs = [ [1.0, 2.0, 3.0,  2.5],\n",
        "           [2.0, 5.0, -1.0, 2.0],\n",
        "           [-1.5, 2.7, 3.3, -0.8]]\n",
        "weights= [[ 0.2,   0.8 , -0.5,  1.0],\n",
        "          [ 0.5,  -0.91, 0.26, -0.5],\n",
        "          [-0.26, -0.27, 0.17, 0.87]]\n",
        "\n",
        "biases = [2.0, 3.0, 0.5]\n"
      ],
      "metadata": {
        "id": "UI6Y5mpQj7GL"
      },
      "execution_count": 4,
      "outputs": []
    },
    {
      "cell_type": "markdown",
      "source": [
        "### inputs = matrix [3x4] and weights = matrix [3x4] - necessary to transpose weights."
      ],
      "metadata": {
        "id": "vd3G5BAHQKIR"
      }
    },
    {
      "cell_type": "code",
      "source": [
        "outputs = np.dot(inputs, np.array(weights).T) + biases\n",
        "print(outputs)"
      ],
      "metadata": {
        "colab": {
          "base_uri": "https://localhost:8080/"
        },
        "id": "sWziitHOQBUY",
        "outputId": "9b576250-c226-4a61-8fcb-a3e1abf5b5fb"
      },
      "execution_count": 5,
      "outputs": [
        {
          "output_type": "stream",
          "name": "stdout",
          "text": [
            "[[ 4.8    1.21   2.385]\n",
            " [ 8.9   -1.81   0.2  ]\n",
            " [ 1.41   1.051  0.026]]\n"
          ]
        }
      ]
    }
  ]
}