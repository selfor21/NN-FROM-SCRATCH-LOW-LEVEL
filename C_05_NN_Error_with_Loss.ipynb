{
  "nbformat": 4,
  "nbformat_minor": 0,
  "metadata": {
    "colab": {
      "provenance": [],
      "toc_visible": true,
      "authorship_tag": "ABX9TyNbMSr86Gh+A0e2WZSNVIAy",
      "include_colab_link": true
    },
    "kernelspec": {
      "name": "python3",
      "display_name": "Python 3"
    },
    "language_info": {
      "name": "python"
    }
  },
  "cells": [
    {
      "cell_type": "markdown",
      "metadata": {
        "id": "view-in-github",
        "colab_type": "text"
      },
      "source": [
        "<a href=\"https://colab.research.google.com/github/selfor21/NN-FROM-SCRATCH-LOW-LEVEL/blob/main/C_05_NN_Error_with_Loss.ipynb\" target=\"_parent\"><img src=\"https://colab.research.google.com/assets/colab-badge.svg\" alt=\"Open In Colab\"/></a>"
      ]
    },
    {
      "cell_type": "markdown",
      "source": [
        "# Calculating Network Error with Loss"
      ],
      "metadata": {
        "id": "ChQ3U7ZEL3uS"
      }
    },
    {
      "cell_type": "code",
      "source": [
        "''' With a randomly-initialized model, or even a model initialized with more sophisticated\n",
        "approaches, our goal is to train, or teach, a model over time. To train a model, we tweak the\n",
        "weights and biases to improve the model’s accuracy and confidence. To do this, we calculate how\n",
        "much error the model has. The loss function, also referred to as the cost function, is the algorithm\n",
        "that quantifies how wrong a model is. Loss is the measure of this metric. Since loss is the model’s\n",
        "error, we ideally want it to be 0'''"
      ],
      "metadata": {
        "colab": {
          "base_uri": "https://localhost:8080/",
          "height": 105
        },
        "id": "hFBMiu72zPoP",
        "outputId": "024e94b9-4e27-47fb-a4a8-60a02eca59e2"
      },
      "execution_count": 1,
      "outputs": [
        {
          "output_type": "execute_result",
          "data": {
            "text/plain": [
              "' With a randomly-initialized model, or even a model initialized with more sophisticated\\napproaches, our goal is to train, or teach, a model over time. To train a model, we tweak the\\nweights and biases to improve the model’s accuracy and confidence. To do this, we calculate how\\nmuch error the model has. The loss function, also referred to as the cost function, is the algorithm\\nthat quantifies how wrong a model is. Loss is the measure of this metric. Since loss is the model’s\\nerror, we ideally want it to be 0'"
            ],
            "application/vnd.google.colaboratory.intrinsic+json": {
              "type": "string"
            }
          },
          "metadata": {},
          "execution_count": 1
        }
      ]
    },
    {
      "cell_type": "markdown",
      "source": [
        "## Libraries and Data"
      ],
      "metadata": {
        "id": "RfqliXDCnG9H"
      }
    },
    {
      "cell_type": "code",
      "source": [
        "pip install nnfs"
      ],
      "metadata": {
        "colab": {
          "base_uri": "https://localhost:8080/"
        },
        "id": "wPOoAX5pb_pZ",
        "outputId": "c41902e8-9acd-46c4-f2ed-90eae555e501"
      },
      "execution_count": 2,
      "outputs": [
        {
          "output_type": "stream",
          "name": "stdout",
          "text": [
            "Collecting nnfs\n",
            "  Downloading nnfs-0.5.1-py3-none-any.whl (9.1 kB)\n",
            "Requirement already satisfied: numpy in /usr/local/lib/python3.10/dist-packages (from nnfs) (1.23.5)\n",
            "Installing collected packages: nnfs\n",
            "Successfully installed nnfs-0.5.1\n"
          ]
        }
      ]
    },
    {
      "cell_type": "code",
      "source": [
        "import numpy as np\n",
        "import math\n",
        "import nnfs\n",
        "nnfs.init()"
      ],
      "metadata": {
        "id": "A3Dci-Vua5OU"
      },
      "execution_count": 3,
      "outputs": []
    },
    {
      "cell_type": "code",
      "source": [
        "import matplotlib.pyplot as plt\n",
        "from nnfs.datasets import spiral_data"
      ],
      "metadata": {
        "id": "dIfNUAxqbvQe"
      },
      "execution_count": 4,
      "outputs": []
    },
    {
      "cell_type": "markdown",
      "source": [
        "## Class - Layer_Dense"
      ],
      "metadata": {
        "id": "k16v9bCenL2s"
      }
    },
    {
      "cell_type": "code",
      "source": [
        "class Layer_Dense:\n",
        "    def __init__(self, n_inputs, n_neurons):\n",
        "      self.weights = 0.01 * np.random.randn(n_inputs, n_neurons)\n",
        "      self.biases = np.zeros((1, n_neurons))\n",
        "\n",
        "    def forward(self, inputs):\n",
        "      self.output = np.dot(inputs, self.weights) + self.biases\n"
      ],
      "metadata": {
        "id": "R-NPTXqkbvVH"
      },
      "execution_count": 5,
      "outputs": []
    },
    {
      "cell_type": "markdown",
      "source": [
        "## Class - Activation Function - Softmax and ReLU"
      ],
      "metadata": {
        "id": "zLbHq-21bHsH"
      }
    },
    {
      "cell_type": "code",
      "source": [
        "class Activation_ReLU:\n",
        "  # Forward Pass\n",
        "  def forward(self, inputs):\n",
        "    self.output = np.maximum(0,inputs)\n"
      ],
      "metadata": {
        "id": "h7C7jfkBbH5H"
      },
      "execution_count": 6,
      "outputs": []
    },
    {
      "cell_type": "code",
      "source": [
        "# Softmax activation\n",
        "class Activation_Softmax:\n",
        "# Forward pass\n",
        "  def forward(self, inputs):\n",
        "    # Get unnormalized probabilities\n",
        "    exp_values = np.exp(inputs - np.max(inputs, axis=1, keepdims=True))\n",
        "  # Normalize them for each sample\n",
        "    probabilities = exp_values / np.sum(exp_values, axis=1, keepdims=True)\n",
        "    self.output = probabilities"
      ],
      "metadata": {
        "id": "jTR4Tx9qn4Ng"
      },
      "execution_count": 7,
      "outputs": []
    },
    {
      "cell_type": "markdown",
      "source": [
        "## Class - Loss"
      ],
      "metadata": {
        "id": "TOXGvGBtbNF6"
      }
    },
    {
      "cell_type": "code",
      "source": [
        "# Common loss class\n",
        "# Calculates the data and regularization losses given model output and ground truth values\n",
        "\n",
        "class Loss:\n",
        "  def calculate(self, output, y):\n",
        "    sample_losses = self.forward(output, y)\n",
        "    data_loss = np.mean(sample_losses)\n",
        "    return data_loss"
      ],
      "metadata": {
        "id": "aqrZG4ifa-5c"
      },
      "execution_count": 8,
      "outputs": []
    },
    {
      "cell_type": "code",
      "source": [
        "# Cross-entropy loss\n",
        "class Loss_CategoricalCrossentropy(Loss):\n",
        "  # Forward pass\n",
        "  def forward(self, y_pred, y_true):\n",
        "  # Number of samples in a batch\n",
        "    samples = len(y_pred)\n",
        "  # Clip data to prevent division by 0\n",
        "  # Clip both sides to not drag mean towards any value\n",
        "    y_pred_clipped = np.clip(y_pred, 1e-7, 1 - 1e-7)\n",
        "  # Probabilities for target values - only if categorical labels\n",
        "    if len(y_true.shape) == 1:\n",
        "      correct_confidences = y_pred_clipped[ range(samples), y_true ]\n",
        "  # Mask values - only for one-hot encoded labels\n",
        "    elif len(y_true.shape) == 2:\n",
        "      correct_confidences = np.sum( y_pred_clipped*y_true, axis=1 )\n",
        "  # Losses\n",
        "    negative_log_likelihoods = -np.log(correct_confidences)\n",
        "    return negative_log_likelihoods"
      ],
      "metadata": {
        "id": "jOxyrKKEexsQ"
      },
      "execution_count": 9,
      "outputs": []
    },
    {
      "cell_type": "markdown",
      "source": [
        "## Categorical Cross-Entropy Loss"
      ],
      "metadata": {
        "id": "ZE-mR4TOnzaH"
      }
    },
    {
      "cell_type": "markdown",
      "source": [
        "![image.png](data:image/png;base64,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)"
      ],
      "metadata": {
        "id": "eLGq4Vtn2laW"
      }
    },
    {
      "cell_type": "markdown",
      "source": [
        "### An Example"
      ],
      "metadata": {
        "id": "3ca-eYGxg8PU"
      }
    },
    {
      "cell_type": "code",
      "source": [
        "# Create dataset\n",
        "X, y = spiral_data(samples=100, classes=3)\n"
      ],
      "metadata": {
        "id": "GUk5MOHtbkj_"
      },
      "execution_count": 10,
      "outputs": []
    },
    {
      "cell_type": "code",
      "source": [
        "dense1 = Layer_Dense(2, 3)\n",
        "activation1 = Activation_ReLU()\n",
        "dense2 = Layer_Dense(3, 3)\n",
        "activation2 = Activation_Softmax()\n",
        "loss_function = Loss_CategoricalCrossentropy()\n"
      ],
      "metadata": {
        "id": "bsaK-WCuhBGy"
      },
      "execution_count": 11,
      "outputs": []
    },
    {
      "cell_type": "code",
      "source": [
        "dense1.forward(X)\n",
        "print(np.round(dense1.output[:2],8))"
      ],
      "metadata": {
        "colab": {
          "base_uri": "https://localhost:8080/"
        },
        "id": "9s_u14KdhBKa",
        "outputId": "41fa7dc8-a4ec-42cf-872c-ebb84eba6754"
      },
      "execution_count": 12,
      "outputs": [
        {
          "output_type": "stream",
          "name": "stdout",
          "text": [
            "[[ 0.0000e+00  0.0000e+00  0.0000e+00]\n",
            " [-1.0475e-04  1.1395e-04 -4.7980e-05]]\n"
          ]
        }
      ]
    },
    {
      "cell_type": "code",
      "source": [
        "activation1.forward(dense1.output)\n",
        "print(np.round(activation1.output[:2],8))"
      ],
      "metadata": {
        "colab": {
          "base_uri": "https://localhost:8080/"
        },
        "id": "iLsqFwGmhBNP",
        "outputId": "36bac289-32b4-41ad-943e-d2d0cbf0f5d3"
      },
      "execution_count": 13,
      "outputs": [
        {
          "output_type": "stream",
          "name": "stdout",
          "text": [
            "[[0.         0.         0.        ]\n",
            " [0.         0.00011395 0.        ]]\n"
          ]
        }
      ]
    },
    {
      "cell_type": "code",
      "source": [
        "dense2.forward(activation1.output)\n",
        "print(np.round(dense2.output[:2],8))"
      ],
      "metadata": {
        "colab": {
          "base_uri": "https://localhost:8080/"
        },
        "id": "e-2a-sFbhBYR",
        "outputId": "a104a532-2a15-4152-d9d3-bdd76f0e47f6"
      },
      "execution_count": 14,
      "outputs": [
        {
          "output_type": "stream",
          "name": "stdout",
          "text": [
            "[[ 0.00e+00  0.00e+00  0.00e+00]\n",
            " [-1.80e-07 -1.50e-07  1.23e-06]]\n"
          ]
        }
      ]
    },
    {
      "cell_type": "code",
      "source": [
        "activation2.forward(dense2.output)\n",
        "print(np.round(activation2.output[:5],8))"
      ],
      "metadata": {
        "colab": {
          "base_uri": "https://localhost:8080/"
        },
        "id": "IP4WY9DShBbj",
        "outputId": "69e790c5-ddc2-46d4-8a06-f65d6aa479a4"
      },
      "execution_count": 15,
      "outputs": [
        {
          "output_type": "stream",
          "name": "stdout",
          "text": [
            "[[0.33333334 0.33333334 0.33333334]\n",
            " [0.3333332  0.3333332  0.33333364]\n",
            " [0.3333329  0.33333293 0.3333342 ]\n",
            " [0.3333326  0.33333263 0.33333477]\n",
            " [0.33333233 0.3333324  0.33333528]]\n"
          ]
        }
      ]
    },
    {
      "cell_type": "code",
      "source": [
        "loss = loss_function.calculate(activation2.output, y)\n",
        "# Print loss value\n",
        "print('loss:', loss)"
      ],
      "metadata": {
        "colab": {
          "base_uri": "https://localhost:8080/"
        },
        "id": "y-E6Den9hBe-",
        "outputId": "0c0b7c92-4952-45e8-8353-3c8652b7b5b1"
      },
      "execution_count": 16,
      "outputs": [
        {
          "output_type": "stream",
          "name": "stdout",
          "text": [
            "loss: 1.0986104\n"
          ]
        }
      ]
    },
    {
      "cell_type": "markdown",
      "source": [
        "## Accuracy"
      ],
      "metadata": {
        "id": "ilfvGdgRvCsK"
      }
    },
    {
      "cell_type": "code",
      "source": [
        "# Probabilities of 3 samples\n",
        "softmax_outputs = np.array([[0.7, 0.2, 0.1],\n",
        "[0.5, 0.1, 0.4],\n",
        "[0.02, 0.9, 0.08]])\n",
        "# Target (ground-truth) labels for 3 samples\n",
        "class_targets = np.array([0, 1, 1])\n",
        "# Calculate values along second axis (axis of index 1)\n",
        "predictions = np.argmax(softmax_outputs, axis=1)\n",
        "print(predictions)"
      ],
      "metadata": {
        "id": "iGf5nn66hBiC",
        "colab": {
          "base_uri": "https://localhost:8080/"
        },
        "outputId": "2ad8b0a5-816c-4885-d7e8-224a694e2e93"
      },
      "execution_count": 19,
      "outputs": [
        {
          "output_type": "stream",
          "name": "stdout",
          "text": [
            "[0 0 1]\n"
          ]
        }
      ]
    },
    {
      "cell_type": "code",
      "source": [
        "# If targets are one-hot encoded - convert them\n",
        "if len(class_targets.shape) == 2:\n",
        "  class_targets = np.argmax(class_targets, axis=1)\n",
        "# True evaluates to 1; False to 0\n",
        "accuracy = np.mean(predictions == class_targets)\n",
        "print('acc:', accuracy)"
      ],
      "metadata": {
        "id": "Oq-QfZZThBlV"
      },
      "execution_count": 16,
      "outputs": []
    },
    {
      "cell_type": "code",
      "source": [
        "# Calculate accuracy from output of activation2 and targets\n",
        "# calculate values along first axis\n",
        "predictions = np.argmax(activation2.output, axis=1)\n",
        "if len(y.shape) == 2:\n",
        "  y = np.argmax(y, axis=1)\n",
        "accuracy = np.mean(predictions == y)\n",
        "# Print accuracy\n",
        "print('acc:', accuracy)"
      ],
      "metadata": {
        "id": "gMrH4nfWhBom",
        "colab": {
          "base_uri": "https://localhost:8080/"
        },
        "outputId": "3aab1e92-8db6-4429-b6d7-6a77caaf34f9"
      },
      "execution_count": 22,
      "outputs": [
        {
          "output_type": "stream",
          "name": "stdout",
          "text": [
            "acc: 0.34\n"
          ]
        }
      ]
    },
    {
      "cell_type": "code",
      "source": [],
      "metadata": {
        "id": "qI27R-vTgPZ2"
      },
      "execution_count": 16,
      "outputs": []
    },
    {
      "cell_type": "code",
      "source": [],
      "metadata": {
        "id": "HmxCyuPpgPcr"
      },
      "execution_count": 16,
      "outputs": []
    },
    {
      "cell_type": "code",
      "source": [],
      "metadata": {
        "id": "dyofijVKgPfj"
      },
      "execution_count": 16,
      "outputs": []
    }
  ]
}