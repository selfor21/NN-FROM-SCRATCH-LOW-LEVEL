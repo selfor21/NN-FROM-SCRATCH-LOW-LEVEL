{
  "nbformat": 4,
  "nbformat_minor": 0,
  "metadata": {
    "colab": {
      "provenance": [],
      "toc_visible": true,
      "authorship_tag": "ABX9TyNnxII7lepO4GNmaSPkSK1y",
      "include_colab_link": true
    },
    "kernelspec": {
      "name": "python3",
      "display_name": "Python 3"
    },
    "language_info": {
      "name": "python"
    }
  },
  "cells": [
    {
      "cell_type": "markdown",
      "metadata": {
        "id": "view-in-github",
        "colab_type": "text"
      },
      "source": [
        "<a href=\"https://colab.research.google.com/github/selfor21/NN-FROM-SCRATCH-LOW-LEVEL/blob/main/UC_04_Activation_Functions.ipynb\" target=\"_parent\"><img src=\"https://colab.research.google.com/assets/colab-badge.svg\" alt=\"Open In Colab\"/></a>"
      ]
    },
    {
      "cell_type": "code",
      "execution_count": null,
      "metadata": {
        "id": "ayuzZw_uLUrh"
      },
      "outputs": [],
      "source": [
        "'''In general, neural network will have two types of activation functions.\n",
        "The first will be the function used in hidden layers\n",
        "Second will be used in the output layer.\n",
        "Usually the function used for hidden neurons will be the same for all of them.'''"
      ]
    },
    {
      "cell_type": "markdown",
      "source": [
        "## The Activation Function"
      ],
      "metadata": {
        "id": "ChQ3U7ZEL3uS"
      }
    },
    {
      "cell_type": "code",
      "source": [
        "# The Step Activation Function\n",
        "# The Linear Activation Function\n",
        "# The Sigmoid Activation Function# The Step Activation Function\n",
        "# The Rectified Linear Activation Function\n"
      ],
      "metadata": {
        "id": "TEjJVFa2NA-C"
      },
      "execution_count": null,
      "outputs": []
    },
    {
      "cell_type": "code",
      "source": [],
      "metadata": {
        "id": "GWwUVznMLbo-"
      },
      "execution_count": null,
      "outputs": []
    },
    {
      "cell_type": "code",
      "source": [],
      "metadata": {
        "id": "8A78kaZiLbsO"
      },
      "execution_count": null,
      "outputs": []
    },
    {
      "cell_type": "code",
      "source": [],
      "metadata": {
        "id": "A-1wbIRtLbvz"
      },
      "execution_count": null,
      "outputs": []
    }
  ]
}